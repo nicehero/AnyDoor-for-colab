{
  "cells": [
    {
      "cell_type": "markdown",
      "metadata": {
        "id": "view-in-github",
        "colab_type": "text"
      },
      "source": [
        "<a href=\"https://colab.research.google.com/github/nicehero/AnyDoor-for-colab/blob/main/anydoor_colab.ipynb\" target=\"_parent\"><img src=\"https://colab.research.google.com/assets/colab-badge.svg\" alt=\"Open In Colab\"/></a>"
      ]
    },
    {
      "cell_type": "code",
      "source": [
        "!pip install -q diffusers==0.21.4 transformers==4.32.0 accelerate==0.22.0 omegaconf==2.3.0 einops==0.6.1 av gradio\n",
        "!pip install -q https://download.pytorch.org/whl/cu118/xformers-0.0.22.post4%2Bcu118-cp310-cp310-manylinux2014_x86_64.whl\n",
        "\n",
        "!apt -y install -qq aria2\n",
        "from huggingface_hub import snapshot_download\n"
      ],
      "metadata": {
        "id": "DWaraK5Set94"
      },
      "execution_count": null,
      "outputs": []
    },
    {
      "cell_type": "code",
      "source": [
        "%cd /content\n",
        "!git clone https://github.com/nicehero/AnyDoor-for-colab\n",
        "%cd /content/AnyDoor-for-colab\n",
        "!pip install share==1.0.4\n",
        "!pip install -r requirements.txt\n",
        "!pip install git+https://github.com/cocodataset/panopticapi.git\n",
        "!pip install pycocotools\n",
        "!pip install lvis\n",
        "snapshot_download(repo_id=\"bdsqlsz/AnyDoor-Pruned\", local_dir=\"/content/AnyDoor-for-colab/path/AnyDoor-Pruned\")\n",
        "%cd /content/AnyDoor-for-colab/path\n",
        "!wget https://dl.fbaipublicfiles.com/dinov2/dinov2_vitg14/dinov2_vitg14_reg4_pretrain.pth\n",
        "%cd /content\n"
      ],
      "metadata": {
        "id": "0Lmml9VGSxcQ"
      },
      "execution_count": null,
      "outputs": []
    },
    {
      "cell_type": "code",
      "source": [
        "!pip install open_clip_torch\n",
        "!pip install pytorch_lightning"
      ],
      "metadata": {
        "id": "ijStRy6N6C65"
      },
      "execution_count": null,
      "outputs": []
    },
    {
      "cell_type": "code",
      "source": [
        "%cd /content/AnyDoor-for-colab\n",
        "!python run_gradio_demo.py"
      ],
      "metadata": {
        "id": "cG5N7ZDfWhMP"
      },
      "execution_count": null,
      "outputs": []
    }
  ],
  "metadata": {
    "accelerator": "GPU",
    "colab": {
      "gpuType": "T4",
      "provenance": [],
      "include_colab_link": true
    },
    "kernelspec": {
      "display_name": "Python 3",
      "name": "python3"
    },
    "language_info": {
      "name": "python"
    }
  },
  "nbformat": 4,
  "nbformat_minor": 0
}